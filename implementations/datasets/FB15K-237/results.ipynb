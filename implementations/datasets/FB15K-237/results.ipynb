{
 "cells": [
  {
   "cell_type": "code",
   "execution_count": 24,
   "metadata": {
    "collapsed": true
   },
   "outputs": [],
   "source": [
    "import pandas as pd\n",
    "import numpy as np"
   ]
  },
  {
   "cell_type": "code",
   "execution_count": 37,
   "metadata": {
    "collapsed": true
   },
   "outputs": [],
   "source": [
    "def read_result(data, name):\n",
    "    data = data.split(' ')\n",
    "    data = [float(i) for i in data if i]\n",
    "    data = np.reshape(data,[2, 4])\n",
    "    data = data.mean(axis=0, keepdims=True)\n",
    "    data = pd.DataFrame(data, columns=['MR', 'Hits@10', 'FMR', 'FHits@10'], index=[name])\n",
    "    return data\n",
    "TransE = read_result('792.65     0.169159        406.772 0.326688 252.279   0.342568        222.976 0.490961',\n",
    "                  'TransE')\n"
   ]
  },
  {
   "cell_type": "code",
   "execution_count": 67,
   "metadata": {
    "collapsed": true
   },
   "outputs": [],
   "source": [
    "TransR = read_result('900.663    0.149467        507.833 0.311346 358.2     0.284521        326.438 0.45236',\n",
    "                    'TransR')"
   ]
  },
  {
   "cell_type": "code",
   "execution_count": 68,
   "metadata": {},
   "outputs": [
    {
     "data": {
      "text/html": [
       "<div>\n",
       "<style>\n",
       "    .dataframe thead tr:only-child th {\n",
       "        text-align: right;\n",
       "    }\n",
       "\n",
       "    .dataframe thead th {\n",
       "        text-align: left;\n",
       "    }\n",
       "\n",
       "    .dataframe tbody tr th {\n",
       "        vertical-align: top;\n",
       "    }\n",
       "</style>\n",
       "<table border=\"1\" class=\"dataframe\">\n",
       "  <thead>\n",
       "    <tr style=\"text-align: right;\">\n",
       "      <th></th>\n",
       "      <th>MR</th>\n",
       "      <th>Hits@10</th>\n",
       "      <th>FMR</th>\n",
       "      <th>FHits@10</th>\n",
       "    </tr>\n",
       "  </thead>\n",
       "  <tbody>\n",
       "    <tr>\n",
       "      <th>TransR</th>\n",
       "      <td>629.4315</td>\n",
       "      <td>0.216994</td>\n",
       "      <td>417.1355</td>\n",
       "      <td>0.381853</td>\n",
       "    </tr>\n",
       "  </tbody>\n",
       "</table>\n",
       "</div>"
      ],
      "text/plain": [
       "              MR   Hits@10       FMR  FHits@10\n",
       "TransR  629.4315  0.216994  417.1355  0.381853"
      ]
     },
     "execution_count": 68,
     "metadata": {},
     "output_type": "execute_result"
    }
   ],
   "source": [
    "TransR"
   ]
  },
  {
   "cell_type": "code",
   "execution_count": 59,
   "metadata": {
    "collapsed": true
   },
   "outputs": [],
   "source": [
    "def gen_row(data, name):\n",
    "    return pd.DataFrame(data, columns=['MR', 'Hits@10', 'FMR', 'FHits@10', 'FMRR', 'Source'], index=[name])"
   ]
  },
  {
   "cell_type": "code",
   "execution_count": 77,
   "metadata": {
    "collapsed": true
   },
   "outputs": [],
   "source": [
    "transe = gen_row([[522.5,25.6,314.9,40.9, 0.22, 'Our']],name='TransE')\n",
    "transr = gen_row([[629.4,21.7,417.1,38.2, 0.20, 'Our']],name='TransR')\n",
    "distmult = gen_row([[-1,-1,-1,40.8, 0.25, 'Paper']],name='DISTMULT')\n",
    "nlfeat = gen_row([[-1,-1,-1,34.7, 0.23, 'Paper']],name='NLFeat')\n",
    "neurallp = gen_row([[-1,-1,-1,49.3, 0.31, 'Paper']],name='NeuralLP')\n",
    "dskg = gen_row([[432.9,29.7,212.7,50.5, 0.32, 'Our']],name='DSKG-2layer')"
   ]
  },
  {
   "cell_type": "code",
   "execution_count": 78,
   "metadata": {},
   "outputs": [
    {
     "data": {
      "text/html": [
       "<div>\n",
       "<style>\n",
       "    .dataframe thead tr:only-child th {\n",
       "        text-align: right;\n",
       "    }\n",
       "\n",
       "    .dataframe thead th {\n",
       "        text-align: left;\n",
       "    }\n",
       "\n",
       "    .dataframe tbody tr th {\n",
       "        vertical-align: top;\n",
       "    }\n",
       "</style>\n",
       "<table border=\"1\" class=\"dataframe\">\n",
       "  <thead>\n",
       "    <tr style=\"text-align: right;\">\n",
       "      <th></th>\n",
       "      <th>MR</th>\n",
       "      <th>Hits@10</th>\n",
       "      <th>FMR</th>\n",
       "      <th>FHits@10</th>\n",
       "      <th>FMRR</th>\n",
       "      <th>Source</th>\n",
       "    </tr>\n",
       "  </thead>\n",
       "  <tbody>\n",
       "    <tr>\n",
       "      <th>TransE</th>\n",
       "      <td>522.5</td>\n",
       "      <td>25.6</td>\n",
       "      <td>314.9</td>\n",
       "      <td>40.9</td>\n",
       "      <td>0.22</td>\n",
       "      <td>Our</td>\n",
       "    </tr>\n",
       "    <tr>\n",
       "      <th>TransR</th>\n",
       "      <td>629.4</td>\n",
       "      <td>21.7</td>\n",
       "      <td>417.1</td>\n",
       "      <td>38.2</td>\n",
       "      <td>0.20</td>\n",
       "      <td>Our</td>\n",
       "    </tr>\n",
       "    <tr>\n",
       "      <th>DISTMULT</th>\n",
       "      <td>-1.0</td>\n",
       "      <td>-1.0</td>\n",
       "      <td>-1.0</td>\n",
       "      <td>40.8</td>\n",
       "      <td>0.25</td>\n",
       "      <td>Paper</td>\n",
       "    </tr>\n",
       "    <tr>\n",
       "      <th>NLFeat</th>\n",
       "      <td>-1.0</td>\n",
       "      <td>-1.0</td>\n",
       "      <td>-1.0</td>\n",
       "      <td>34.7</td>\n",
       "      <td>0.23</td>\n",
       "      <td>Paper</td>\n",
       "    </tr>\n",
       "    <tr>\n",
       "      <th>NeuralLP</th>\n",
       "      <td>-1.0</td>\n",
       "      <td>-1.0</td>\n",
       "      <td>-1.0</td>\n",
       "      <td>49.3</td>\n",
       "      <td>0.31</td>\n",
       "      <td>Paper</td>\n",
       "    </tr>\n",
       "    <tr>\n",
       "      <th>DSKG-2layer</th>\n",
       "      <td>432.9</td>\n",
       "      <td>29.7</td>\n",
       "      <td>212.7</td>\n",
       "      <td>50.5</td>\n",
       "      <td>0.32</td>\n",
       "      <td>Our</td>\n",
       "    </tr>\n",
       "  </tbody>\n",
       "</table>\n",
       "</div>"
      ],
      "text/plain": [
       "                MR  Hits@10    FMR  FHits@10  FMRR Source\n",
       "TransE       522.5     25.6  314.9      40.9  0.22    Our\n",
       "TransR       629.4     21.7  417.1      38.2  0.20    Our\n",
       "DISTMULT      -1.0     -1.0   -1.0      40.8  0.25  Paper\n",
       "NLFeat        -1.0     -1.0   -1.0      34.7  0.23  Paper\n",
       "NeuralLP      -1.0     -1.0   -1.0      49.3  0.31  Paper\n",
       "DSKG-2layer  432.9     29.7  212.7      50.5  0.32    Our"
      ]
     },
     "execution_count": 78,
     "metadata": {},
     "output_type": "execute_result"
    }
   ],
   "source": [
    "transe.append([transr, distmult, nlfeat, neurallp, dskg])"
   ]
  }
 ],
 "metadata": {
  "kernelspec": {
   "display_name": "Python 3",
   "language": "python",
   "name": "python3"
  },
  "language_info": {
   "codemirror_mode": {
    "name": "ipython",
    "version": 3
   },
   "file_extension": ".py",
   "mimetype": "text/x-python",
   "name": "python",
   "nbconvert_exporter": "python",
   "pygments_lexer": "ipython3",
   "version": "3.6.1"
  }
 },
 "nbformat": 4,
 "nbformat_minor": 2
}
